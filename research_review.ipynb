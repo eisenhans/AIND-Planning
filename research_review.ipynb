{
 "cells": [
  {
   "cell_type": "markdown",
   "metadata": {},
   "source": [
    "## 1) Partial order planning\n",
    "\n",
    "## 2) State-space planning: fast-forward\n",
    "\n",
    "## 3) Real world applications: acting instead of planning\n",
    "\n",
    "Classical planning assumes a fixed set of states and deterministic actions that have preconditions and effects. Planning is about finding a sequence of actions to reach a specific goal state. For many real world applications, this approach is too theroretical. Ghallab et al. (2014) suggest to focus research more on _acting_ instead of planning. Acting is the purpose of planning. Although planning is one important requirement for acting, it is not sufficient. The authors use two examples to illustrate their point: the management of a large harbor, and a robot whose purpose is to move objects in an open environment. For automated systems like these the following points are important:\n",
    "\n",
    "* Hierarchies of components: one component receives tasks from the components above it. To executes this task the component can create or update plans, receive and analyze sensor data, or delegate subtasks to components below it.\n",
    "\n",
    "* Continual planning: an actor in the real world needs to interact with its environment and update plans continually. For some  events it is not possible or feasible to plan ahead of time. Instead the actor should adjust its plan.\n",
    "\n",
    "* Uncertainty: in the real world an actor's environment is dynamic. Unexpected events may happen, or actions may not have the intended effect.\n",
    "\n",
    "A system that takes these aspects into account needs to be more complex than the systems used in classical planning. It has to _understand_ its environment in a way.\n",
    "\n",
    "\n"
   ]
  },
  {
   "cell_type": "markdown",
   "metadata": {},
   "source": [
    "# References\n",
    "__Ghallab,__ M., Nau, D., and Traverso, P. (2014). _The actor's view of automated planning and acting: A position paper._ Artificial Intelligence 208.\n",
    "__Hoffmann,__ J. (2001). FF: The fast-forward planning system. AI Magazine 22(3), pp. 57-62.\n",
    "__Nguyen,__ X. and Kambhampati, S. (2001). Reviving partial order planning. IJCAI-01, pp. 459-464.\n",
    "__Russell,__ S. J. and Norvig, P. (Third Edition, 2011). Artificial Intelligence - A Modern Approach, Chapters 10 & 11. Pearson.\n",
    "\n"
   ]
  }
 ],
 "metadata": {
  "kernelspec": {
   "display_name": "Python [conda env:aind]",
   "language": "python",
   "name": "conda-env-aind-py"
  },
  "language_info": {
   "codemirror_mode": {
    "name": "ipython",
    "version": 3
   },
   "file_extension": ".py",
   "mimetype": "text/x-python",
   "name": "python",
   "nbconvert_exporter": "python",
   "pygments_lexer": "ipython3",
   "version": "3.6.0"
  }
 },
 "nbformat": 4,
 "nbformat_minor": 2
}
